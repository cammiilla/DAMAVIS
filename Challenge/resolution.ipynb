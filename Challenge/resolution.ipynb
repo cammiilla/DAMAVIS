{
 "cells": [
  {
   "cell_type": "code",
   "execution_count": 21,
   "metadata": {},
   "outputs": [],
   "source": [
    "import numpy as np \n"
   ]
  },
  {
   "cell_type": "code",
   "execution_count": 92,
   "metadata": {},
   "outputs": [],
   "source": [
    "board_dimentions = [4, 3]\n",
    "snake_position = [[2, 2], [3, 2], [3, 1], [3, 0], [2, 0], [1, 0], [0, 0]]\n",
    "depth = 3\n",
    "\n",
    "#result = nexts_movements(board_dimentions,snake_position,depth)\n"
   ]
  },
  {
   "cell_type": "code",
   "execution_count": 100,
   "metadata": {},
   "outputs": [
    {
     "data": {
      "text/plain": [
       "7"
      ]
     },
     "execution_count": 100,
     "metadata": {},
     "output_type": "execute_result"
    }
   ],
   "source": [
    "result = str(result)\n",
    "result.count('End of Sequence')\n"
   ]
  },
  {
   "cell_type": "code",
   "execution_count": 102,
   "metadata": {},
   "outputs": [
    {
     "name": "stdout",
     "output_type": "stream",
     "text": [
      "0\n",
      "1\n",
      "2\n"
     ]
    }
   ],
   "source": [
    "for i in range(3):\n",
    "    print(i)"
   ]
  },
  {
   "cell_type": "code",
   "execution_count": 90,
   "metadata": {},
   "outputs": [
    {
     "data": {
      "text/plain": [
       "{'[2, 1]': {'[1, 1]': {'[1, 2]': 'Fim da Sequencia',\n",
       "   '[1, 0]': 'Fim da Sequencia',\n",
       "   '[0, 1]': 'Fim da Sequencia'}},\n",
       " '[1, 2]': {'[0, 2]': {}}}"
      ]
     },
     "execution_count": 90,
     "metadata": {},
     "output_type": "execute_result"
    }
   ],
   "source": [
    "result"
   ]
  },
  {
   "cell_type": "code",
   "execution_count": 76,
   "metadata": {},
   "outputs": [
    {
     "name": "stdout",
     "output_type": "stream",
     "text": [
      "{'[2, 1]': {'[1, 1]': {'[1, 2]': 'Fim da Sequencia', '[1, 0]': 'Fim da Sequencia', '[0, 1]': 'Fim da Sequencia'}}, '[1, 2]': {'[0, 2]': {'[-1, 2]': 'Fim da Sequencia'}}}\n"
     ]
    }
   ],
   "source": [
    "print(result)"
   ]
  },
  {
   "cell_type": "code",
   "execution_count": 87,
   "metadata": {},
   "outputs": [],
   "source": [
    "def nexts_movements(board_dimentions,snake_position,depth):\n",
    "    if depth == 0:\n",
    "        return \"Fim da Sequencia\"\n",
    "    else: \n",
    "\n",
    "        board = board_maker(board_dimentions,snake_position)\n",
    "        head = snake_position[0]\n",
    "        possibles_movements = movement_test(head, board_dimentions, board)\n",
    "        number_of_possibles_movements = len(possibles_movements)\n",
    "        dicio = {}\n",
    "        for n in range(number_of_possibles_movements):\n",
    "            change_snake_position = new_snake_position(snake_position,possibles_movements[n])\n",
    "            possible_movement = possibles_movements[n]\n",
    "            dicio[str(possible_movement)] = nexts_movements(board_dimentions,change_snake_position,depth-1)\n",
    "        print(dicio)\n",
    "        return dicio\n",
    "\n"
   ]
  },
  {
   "cell_type": "code",
   "execution_count": 85,
   "metadata": {},
   "outputs": [],
   "source": [
    "def board_maker(board_dimentions,snake_position):\n",
    "    rows = board_dimentions[0]\n",
    "    colunms = board_dimentions[1]\n",
    "\n",
    "    snake_lenth = len(snake_position)\n",
    "\n",
    "    board = np.zeros((rows, colunms))\n",
    "\n",
    "    for i in range(snake_lenth):\n",
    "        if i == 0:\n",
    "            row = snake_position[i][0]\n",
    "            colunm = snake_position[i][1]\n",
    "            board[row][colunm] = 2\n",
    "        elif i == snake_lenth-1:\n",
    "            row = snake_position[i][0]\n",
    "            colunm = snake_position[i][1]\n",
    "            board[row][colunm] = 3\n",
    "        else:\n",
    "            row = snake_position[i][0]\n",
    "            colunm = snake_position[i][1]\n",
    "            board[row][colunm] = 1\n",
    "    print(board)\n",
    "    return board \n",
    "    "
   ]
  },
  {
   "cell_type": "code",
   "execution_count": 44,
   "metadata": {},
   "outputs": [],
   "source": [
    "def new_snake_position(snake_position,movement):\n",
    "    snake_position.insert(0, movement)\n",
    "    del snake_position[-1]\n",
    "    return snake_position"
   ]
  },
  {
   "cell_type": "code",
   "execution_count": 86,
   "metadata": {},
   "outputs": [],
   "source": [
    "\n",
    "def movement_test(snake_head,board_dimentions,board):\n",
    "\n",
    "    # Board limit coordnates\n",
    "    row_limit = board_dimentions[0] - 1\n",
    "    colunm_limit = board_dimentions[1] - 1\n",
    "\n",
    "    movements = {\"R\": [0, 1], \"D\": [1, 0], \"L\": [0, -1], \"U\": [-1, 0]}\n",
    "    candidates_movements = []\n",
    "    for move in movements.items():\n",
    "        value = move[1]\n",
    "        key = move[0]\n",
    "\n",
    "        # Sum the snake_head coordinate with the movements coordinates\n",
    "        new_position = list(map(lambda v1, v2: v1 + v2, value, snake_head))\n",
    "        # Test for the board limits\n",
    "        if new_position[0] <= row_limit and new_position[1] <= colunm_limit and new_position[0] >= 0 and new_position[1] >= 0:\n",
    "\n",
    "            new_position_row = new_position[0]\n",
    "            new_position_colunm = new_position[1]\n",
    "            \n",
    "            # Test for the snake body limits\n",
    "            if board[new_position_row,new_position_colunm] == 0 or board[new_position_row,new_position_colunm] == 3:\n",
    "                candidates_movements.append(new_position)\n",
    "\n",
    "    return candidates_movements\n",
    "\n",
    "    "
   ]
  }
 ],
 "metadata": {
  "interpreter": {
   "hash": "17afd13b9c7a0452a2d67007190da4a4f2e4f25b43d8b862a600fd6f17889a9e"
  },
  "kernelspec": {
   "display_name": "Python 3.8.9 ('VirtualEnvironment': venv)",
   "language": "python",
   "name": "python3"
  },
  "language_info": {
   "codemirror_mode": {
    "name": "ipython",
    "version": 3
   },
   "file_extension": ".py",
   "mimetype": "text/x-python",
   "name": "python",
   "nbconvert_exporter": "python",
   "pygments_lexer": "ipython3",
   "version": "3.8.9"
  },
  "orig_nbformat": 4
 },
 "nbformat": 4,
 "nbformat_minor": 2
}
